{
 "cells": [
  {
   "cell_type": "markdown",
   "id": "bbc277e6-3209-450e-a252-cbb4497ace3d",
   "metadata": {},
   "source": [
    "# Practice training a deep neural network on the CIFAR10 image dataset:"
   ]
  },
  {
   "cell_type": "code",
   "execution_count": 1,
   "id": "8d47620a-0385-41e6-b162-0383272d27db",
   "metadata": {},
   "outputs": [],
   "source": [
    "import os\n",
    "os.chdir(\"..\")"
   ]
  },
  {
   "cell_type": "code",
   "execution_count": 3,
   "id": "431cf4c9-9241-41ba-a454-949ea0dccc14",
   "metadata": {},
   "outputs": [],
   "source": [
    "import torch\n",
    "import torch.nn as nn\n",
    "import torch.nn.functional as F\n",
    "\n",
    "import torchvision\n",
    "import torchvision.transforms as transforms\n",
    "import torch.optim as optim\n",
    "\n",
    "from PIL import Image\n",
    "import time"
   ]
  },
  {
   "cell_type": "markdown",
   "id": "d5f18e04-c354-4f33-b033-bc881d12ded3",
   "metadata": {},
   "source": [
    "a. Build a DNN with 20 hidden layers of 100 neurons each (that’s too many, but it’s the point of this exercise). Use He initialization and the Swish activation function."
   ]
  },
  {
   "cell_type": "code",
   "execution_count": 4,
   "id": "1e4da565-5587-4985-9252-9eee1e7a93c6",
   "metadata": {},
   "outputs": [
    {
     "name": "stdout",
     "output_type": "stream",
     "text": [
      "Files already downloaded and verified\n",
      "Files already downloaded and verified\n"
     ]
    }
   ],
   "source": [
    "batch_size = 4\n",
    "\n",
    "transform = transforms.Compose(\n",
    "    [transforms.ToTensor(),\n",
    "     transforms.Normalize((0, 0, 0), (1, 1, 1))]\n",
    ")\n",
    "\n",
    "trainset = torchvision.datasets.CIFAR10(root='./data', train=True, download=True, transform=transform)\n",
    "trainloader = torch.utils.data.DataLoader(trainset, batch_size=batch_size, shuffle=True)\n",
    "\n",
    "testset = torchvision.datasets.CIFAR10(root='./data', train=False, download=True, transform=transform)\n",
    "testloader = torch.utils.data.DataLoader(testset, batch_size=batch_size, shuffle=False)"
   ]
  },
  {
   "cell_type": "code",
   "execution_count": 5,
   "id": "0f16c0d1-0e05-4abc-8ecc-4fb9cb7a5ecf",
   "metadata": {},
   "outputs": [],
   "source": [
    "def weights_init(layer):\n",
    "    if isinstance(layer, nn.Linear):\n",
    "        torch.nn.init.kaiming_normal_(layer.weight, mode='fan_in')\n",
    "        # torch.nn.init.zero_(m.bias)"
   ]
  },
  {
   "cell_type": "code",
   "execution_count": 11,
   "id": "de2fb0f8-ee55-462f-8844-44712e6678ba",
   "metadata": {},
   "outputs": [],
   "source": [
    "layers = [nn.Linear(100, 100) for layer in range(18)]\n",
    "\n",
    "CIFAR10 = nn.Sequential(\n",
    "    nn.Linear(3*32*32, 100),\n",
    "    *layers,\n",
    "    nn.Linear(100, 10),\n",
    "    nn.Softmax(dim=-1)\n",
    ").apply(weights_init)"
   ]
  },
  {
   "cell_type": "code",
   "execution_count": 12,
   "id": "64f2e268-d4fe-441c-ba21-1d5c5a902229",
   "metadata": {
    "scrolled": true
   },
   "outputs": [],
   "source": [
    "epochs = 2\n",
    "def train(model, trainloader, epochs, crtireion, learning_rate=5e-1):\n",
    "    running_loss = 0.0\n",
    "\n",
    "    model.train()\n",
    "    optimizer = optim.NAdam(params=CIFAR10.parameters(), lr=learning_rate)\n",
    "    flatten = nn.Flatten()\n",
    "    for epoch in range(epochs):\n",
    "        for i, data in enumerate(trainloader):\n",
    "            inputs, targets = data\n",
    "    \n",
    "            optimizer.zero_grad()\n",
    "            inputs = flatten(inputs)\n",
    "            outputs = model(inputs)\n",
    "            loss = crtireion(outputs, targets)\n",
    "            loss.backward()\n",
    "            optimizer.step()\n",
    "            \n",
    "            # print statistics\n",
    "            running_loss += loss.item()\n",
    "            if i % 2000 == 1999:    # print every 2000 mini-batches\n",
    "                print(f'[{epoch + 1}, {i + 1:5d}] loss: {running_loss / 2000:.3f}')\n",
    "                running_loss = 0.0"
   ]
  },
  {
   "cell_type": "code",
   "execution_count": 14,
   "id": "34cbf858-d5fd-4daf-a62d-cb4e4e2b66e4",
   "metadata": {},
   "outputs": [
    {
     "name": "stdout",
     "output_type": "stream",
     "text": [
      "[1,  2000] loss: 2.361\n",
      "[1,  4000] loss: 2.361\n",
      "[1,  6000] loss: 2.358\n",
      "[1,  8000] loss: 2.362\n",
      "[1, 10000] loss: 2.365\n",
      "[1, 12000] loss: 2.361\n",
      "[2,  2000] loss: 2.955\n",
      "[2,  4000] loss: 2.356\n",
      "[2,  6000] loss: 2.362\n",
      "[2,  8000] loss: 2.363\n",
      "[2, 10000] loss: 2.364\n",
      "[2, 12000] loss: 2.358\n",
      "training took 445.9984600543976s\n"
     ]
    }
   ],
   "source": [
    "crtireion = nn.CrossEntropyLoss()\n",
    "\n",
    "start = time.time()\n",
    "train(CIFAR10, trainloader, epochs=2, crtireion=crtireion)\n",
    "end = time.time()\n",
    "print(f\"training took {end-start}s\")"
   ]
  },
  {
   "cell_type": "code",
   "execution_count": 32,
   "id": "a83deb9e-1b82-4b1c-a202-258c3bae6550",
   "metadata": {},
   "outputs": [],
   "source": [
    "def evaluate(model, testloader):\n",
    "    correct = 0.0\n",
    "    total = 0.0\n",
    "    \n",
    "    model.eval()\n",
    "    flatten = nn.Flatten()\n",
    "    for i, data in enumerate(testloader):\n",
    "        test_inputs, test_targets = data\n",
    "        test_inputs = flatten(test_inputs)\n",
    "        test_outputs = model(test_inputs)\n",
    "\n",
    "        _, predictions = torch.max(test_outputs, 1)\n",
    "\n",
    "        total += test_targets.size(0)\n",
    "        correct += (predictions == test_targets).sum().item()\n",
    "\n",
    "    return total, correct"
   ]
  },
  {
   "cell_type": "code",
   "execution_count": 33,
   "id": "32a64076-54e9-401b-bd11-66f889564d17",
   "metadata": {},
   "outputs": [],
   "source": [
    "total, correct = evaluate(CIFAR10, testloader)"
   ]
  },
  {
   "cell_type": "code",
   "execution_count": 34,
   "id": "3267c487-3deb-4d9f-abbc-baf28e0ee017",
   "metadata": {},
   "outputs": [
    {
     "name": "stdout",
     "output_type": "stream",
     "text": [
      "Accuracy of the network on the 10000 test images: 10.0 %\n"
     ]
    }
   ],
   "source": [
    "print(f'Accuracy of the network on the 10000 test images: {100 * correct // total} %')"
   ]
  },
  {
   "cell_type": "code",
   "execution_count": null,
   "id": "6af19b9f-3b7a-4520-8122-36320d1f2a74",
   "metadata": {},
   "outputs": [],
   "source": []
  }
 ],
 "metadata": {
  "kernelspec": {
   "display_name": "Python 3 (ipykernel)",
   "language": "python",
   "name": "python3"
  },
  "language_info": {
   "codemirror_mode": {
    "name": "ipython",
    "version": 3
   },
   "file_extension": ".py",
   "mimetype": "text/x-python",
   "name": "python",
   "nbconvert_exporter": "python",
   "pygments_lexer": "ipython3",
   "version": "3.10.11"
  }
 },
 "nbformat": 4,
 "nbformat_minor": 5
}
